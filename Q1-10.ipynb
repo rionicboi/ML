{
  "metadata": {
    "kernelspec": {
      "name": "python",
      "display_name": "Python (Pyodide)",
      "language": "python"
    },
    "language_info": {
      "codemirror_mode": {
        "name": "python",
        "version": 3
      },
      "file_extension": ".py",
      "mimetype": "text/x-python",
      "name": "python",
      "nbconvert_exporter": "python",
      "pygments_lexer": "ipython3",
      "version": "3.8"
    }
  },
  "nbformat_minor": 5,
  "nbformat": 4,
  "cells": [
    {
      "id": "9288f941",
      "cell_type": "markdown",
      "source": "# Q1",
      "metadata": {}
    },
    {
      "id": "8fedbf30",
      "cell_type": "code",
      "source": "2+2",
      "metadata": {},
      "outputs": [
        {
          "data": {
            "text/plain": [
              "4"
            ]
          },
          "execution_count": 1,
          "metadata": {},
          "output_type": "execute_result"
        }
      ],
      "execution_count": 1
    },
    {
      "id": "495cfcad",
      "cell_type": "code",
      "source": "2-2",
      "metadata": {},
      "outputs": [
        {
          "data": {
            "text/plain": [
              "0"
            ]
          },
          "execution_count": 2,
          "metadata": {},
          "output_type": "execute_result"
        }
      ],
      "execution_count": 2
    },
    {
      "id": "fd76c7ac",
      "cell_type": "code",
      "source": "2*2",
      "metadata": {},
      "outputs": [
        {
          "data": {
            "text/plain": [
              "4"
            ]
          },
          "execution_count": 3,
          "metadata": {},
          "output_type": "execute_result"
        }
      ],
      "execution_count": 3
    },
    {
      "id": "a83d785a",
      "cell_type": "code",
      "source": "2/2",
      "metadata": {},
      "outputs": [
        {
          "data": {
            "text/plain": [
              "1.0"
            ]
          },
          "execution_count": 4,
          "metadata": {},
          "output_type": "execute_result"
        }
      ],
      "execution_count": 4
    },
    {
      "id": "a3bc50b0",
      "cell_type": "code",
      "source": "2**2",
      "metadata": {},
      "outputs": [
        {
          "data": {
            "text/plain": [
              "4"
            ]
          },
          "execution_count": 5,
          "metadata": {},
          "output_type": "execute_result"
        }
      ],
      "execution_count": 5
    },
    {
      "id": "2877a1e4",
      "cell_type": "markdown",
      "source": "# Q2",
      "metadata": {}
    },
    {
      "id": "ea425193",
      "cell_type": "code",
      "source": "x = True\ny = False\nx & y",
      "metadata": {},
      "outputs": [
        {
          "data": {
            "text/plain": [
              "False"
            ]
          },
          "execution_count": 7,
          "metadata": {},
          "output_type": "execute_result"
        }
      ],
      "execution_count": 7
    },
    {
      "id": "1f1c8475",
      "cell_type": "code",
      "source": "x | y",
      "metadata": {},
      "outputs": [
        {
          "data": {
            "text/plain": [
              "True"
            ]
          },
          "execution_count": 8,
          "metadata": {},
          "output_type": "execute_result"
        }
      ],
      "execution_count": 8
    },
    {
      "id": "fbecbdba",
      "cell_type": "code",
      "source": "x == y",
      "metadata": {},
      "outputs": [
        {
          "data": {
            "text/plain": [
              "False"
            ]
          },
          "execution_count": 9,
          "metadata": {},
          "output_type": "execute_result"
        }
      ],
      "execution_count": 9
    },
    {
      "id": "fb2b252e",
      "cell_type": "code",
      "source": "not x",
      "metadata": {},
      "outputs": [
        {
          "data": {
            "text/plain": [
              "False"
            ]
          },
          "execution_count": 12,
          "metadata": {},
          "output_type": "execute_result"
        }
      ],
      "execution_count": 12
    },
    {
      "id": "bd54f17e",
      "cell_type": "code",
      "source": "x ^ y",
      "metadata": {},
      "outputs": [
        {
          "data": {
            "text/plain": [
              "True"
            ]
          },
          "execution_count": 13,
          "metadata": {},
          "output_type": "execute_result"
        }
      ],
      "execution_count": 13
    },
    {
      "id": "0b27b6ce",
      "cell_type": "code",
      "source": "y = True\nx ^ y",
      "metadata": {},
      "outputs": [
        {
          "data": {
            "text/plain": [
              "False"
            ]
          },
          "execution_count": 14,
          "metadata": {},
          "output_type": "execute_result"
        }
      ],
      "execution_count": 14
    },
    {
      "id": "ed18029a",
      "cell_type": "markdown",
      "source": "# Q3",
      "metadata": {}
    },
    {
      "id": "e2c8c6af",
      "cell_type": "code",
      "source": "a = \"banana\"\nb = 32\ntype(a)",
      "metadata": {},
      "outputs": [
        {
          "data": {
            "text/plain": [
              "str"
            ]
          },
          "execution_count": 15,
          "metadata": {},
          "output_type": "execute_result"
        }
      ],
      "execution_count": 15
    },
    {
      "id": "5461985a",
      "cell_type": "code",
      "source": "type(b)",
      "metadata": {},
      "outputs": [
        {
          "data": {
            "text/plain": [
              "int"
            ]
          },
          "execution_count": 16,
          "metadata": {},
          "output_type": "execute_result"
        }
      ],
      "execution_count": 16
    },
    {
      "id": "4c084ab2",
      "cell_type": "code",
      "source": "a + str(b)",
      "metadata": {},
      "outputs": [
        {
          "data": {
            "text/plain": [
              "'banana32'"
            ]
          },
          "execution_count": 18,
          "metadata": {},
          "output_type": "execute_result"
        }
      ],
      "execution_count": 18
    },
    {
      "id": "f7f14458",
      "cell_type": "code",
      "source": "a.upper()",
      "metadata": {},
      "outputs": [
        {
          "data": {
            "text/plain": [
              "'BANANA'"
            ]
          },
          "execution_count": 19,
          "metadata": {},
          "output_type": "execute_result"
        }
      ],
      "execution_count": 19
    },
    {
      "id": "ca2f5ed8",
      "cell_type": "code",
      "source": "st = \"I have {num} {obj}\"\nprint(st.format(num = b, obj = a))",
      "metadata": {},
      "outputs": [
        {
          "name": "stdout",
          "output_type": "stream",
          "text": [
            "I have 32 banana\n"
          ]
        }
      ],
      "execution_count": 20
    },
    {
      "id": "9b52455e",
      "cell_type": "markdown",
      "source": "# Q4",
      "metadata": {}
    },
    {
      "id": "5efe3a5e",
      "cell_type": "code",
      "source": "import numpy as np\narr0 = np.zeros(10)\narr0",
      "metadata": {},
      "outputs": [
        {
          "data": {
            "text/plain": [
              "array([0., 0., 0., 0., 0., 0., 0., 0., 0., 0.])"
            ]
          },
          "execution_count": 22,
          "metadata": {},
          "output_type": "execute_result"
        }
      ],
      "execution_count": 22
    },
    {
      "id": "3502b8ee",
      "cell_type": "code",
      "source": "arr1 = np.ones(10)\narr1",
      "metadata": {},
      "outputs": [
        {
          "data": {
            "text/plain": [
              "array([1., 1., 1., 1., 1., 1., 1., 1., 1., 1.])"
            ]
          },
          "execution_count": 24,
          "metadata": {},
          "output_type": "execute_result"
        }
      ],
      "execution_count": 24
    },
    {
      "id": "9ae02757",
      "cell_type": "code",
      "source": "arrRandom = np.random.randint(0, 50, 10)\narrRandom",
      "metadata": {},
      "outputs": [
        {
          "data": {
            "text/plain": [
              "array([12, 34, 42, 40, 32, 30, 34, 16, 37, 20])"
            ]
          },
          "execution_count": 26,
          "metadata": {},
          "output_type": "execute_result"
        }
      ],
      "execution_count": 26
    },
    {
      "id": "bc9bf0a3",
      "cell_type": "code",
      "source": "arr = np.array([1, 0, 0, 0, 1, 0, 0, 0, 1])\narr",
      "metadata": {},
      "outputs": [
        {
          "data": {
            "text/plain": [
              "array([1, 0, 0, 0, 1, 0, 0, 0, 1])"
            ]
          },
          "execution_count": 27,
          "metadata": {},
          "output_type": "execute_result"
        }
      ],
      "execution_count": 27
    },
    {
      "id": "972e1d61",
      "cell_type": "code",
      "source": "arr = arr.reshape(3, 3)\narr",
      "metadata": {},
      "outputs": [
        {
          "data": {
            "text/plain": [
              "array([[1, 0, 0],\n",
              "       [0, 1, 0],\n",
              "       [0, 0, 1]])"
            ]
          },
          "execution_count": 30,
          "metadata": {},
          "output_type": "execute_result"
        }
      ],
      "execution_count": 30
    },
    {
      "id": "658de7fa",
      "cell_type": "markdown",
      "source": "# Q5",
      "metadata": {}
    },
    {
      "id": "216c299f",
      "cell_type": "code",
      "source": "import numpy as np\nnewarr = np.random.randint(0, 50, 9).reshape(3, 3)\nnewarr",
      "metadata": {
        "trusted": true
      },
      "outputs": [
        {
          "execution_count": 1,
          "output_type": "execute_result",
          "data": {
            "text/plain": "array([[25, 13, 28],\n       [30, 32,  2],\n       [48,  8,  4]])"
          },
          "metadata": {}
        }
      ],
      "execution_count": 1
    },
    {
      "id": "ca7567cc",
      "cell_type": "code",
      "source": "newarr.size",
      "metadata": {
        "trusted": true
      },
      "outputs": [
        {
          "execution_count": 2,
          "output_type": "execute_result",
          "data": {
            "text/plain": "9"
          },
          "metadata": {}
        }
      ],
      "execution_count": 2
    },
    {
      "id": "1300979c",
      "cell_type": "code",
      "source": "newarr[1].size",
      "metadata": {
        "trusted": true
      },
      "outputs": [
        {
          "execution_count": 3,
          "output_type": "execute_result",
          "data": {
            "text/plain": "3"
          },
          "metadata": {}
        }
      ],
      "execution_count": 3
    },
    {
      "id": "56d1a25b",
      "cell_type": "code",
      "source": "file = open(\"monke.txt\", \"r+\")",
      "metadata": {
        "trusted": true
      },
      "outputs": [],
      "execution_count": 5
    },
    {
      "id": "858c0279",
      "cell_type": "code",
      "source": "file.read()",
      "metadata": {
        "trusted": true
      },
      "outputs": [
        {
          "execution_count": 6,
          "output_type": "execute_result",
          "data": {
            "text/plain": "'monke angy'"
          },
          "metadata": {}
        }
      ],
      "execution_count": 6
    },
    {
      "id": "7ce796b0",
      "cell_type": "code",
      "source": "for i in newarr:\n    file.writelines(str(i))\n",
      "metadata": {
        "trusted": true
      },
      "outputs": [],
      "execution_count": 10
    },
    {
      "id": "2c88585f",
      "cell_type": "code",
      "source": "file.read()",
      "metadata": {
        "trusted": true
      },
      "outputs": [
        {
          "execution_count": 12,
          "output_type": "execute_result",
          "data": {
            "text/plain": "''"
          },
          "metadata": {}
        }
      ],
      "execution_count": 12
    },
    {
      "id": "97af9f44-0bdb-42b7-8d29-26f2a5c8c778",
      "cell_type": "markdown",
      "source": "# Q6",
      "metadata": {}
    },
    {
      "id": "0cfa2168-f1cb-4bdc-9229-62b56a919f82",
      "cell_type": "code",
      "source": "arr1 = np.random.randint(0, 50, 9).reshape(3, 3)\narr1",
      "metadata": {
        "trusted": true
      },
      "outputs": [
        {
          "execution_count": 14,
          "output_type": "execute_result",
          "data": {
            "text/plain": "array([[47, 45, 12],\n       [ 5, 21, 45],\n       [32, 13, 18]])"
          },
          "metadata": {}
        }
      ],
      "execution_count": 14
    },
    {
      "id": "e13cba7b-1bea-40fb-ae2b-0ebc62aea880",
      "cell_type": "code",
      "source": "arr2 = np.random.randint(0, 50, 9).reshape(3, 3)\narr2",
      "metadata": {
        "trusted": true
      },
      "outputs": [
        {
          "execution_count": 15,
          "output_type": "execute_result",
          "data": {
            "text/plain": "array([[ 7, 42, 13],\n       [19, 31, 41],\n       [38, 38, 13]])"
          },
          "metadata": {}
        }
      ],
      "execution_count": 15
    },
    {
      "id": "ed9e1b6f-0706-4ca5-affd-5c8d0e06135e",
      "cell_type": "code",
      "source": "arr1 + arr2",
      "metadata": {
        "trusted": true
      },
      "outputs": [
        {
          "execution_count": 16,
          "output_type": "execute_result",
          "data": {
            "text/plain": "array([[54, 87, 25],\n       [24, 52, 86],\n       [70, 51, 31]])"
          },
          "metadata": {}
        }
      ],
      "execution_count": 16
    },
    {
      "id": "b5ecf0b8-19b2-4059-b84c-d411e704c6e9",
      "cell_type": "code",
      "source": "arr1 - arr2",
      "metadata": {
        "trusted": true
      },
      "outputs": [
        {
          "execution_count": 17,
          "output_type": "execute_result",
          "data": {
            "text/plain": "array([[ 40,   3,  -1],\n       [-14, -10,   4],\n       [ -6, -25,   5]])"
          },
          "metadata": {}
        }
      ],
      "execution_count": 17
    },
    {
      "id": "e82027b4-a16f-4542-8e29-71b909f34c0a",
      "cell_type": "code",
      "source": "arr1 * arr2",
      "metadata": {
        "trusted": true
      },
      "outputs": [
        {
          "execution_count": 18,
          "output_type": "execute_result",
          "data": {
            "text/plain": "array([[ 329, 1890,  156],\n       [  95,  651, 1845],\n       [1216,  494,  234]])"
          },
          "metadata": {}
        }
      ],
      "execution_count": 18
    },
    {
      "id": "a9665005-6f75-4270-b2f2-ed73ffa2c069",
      "cell_type": "code",
      "source": "arr1[:][2]",
      "metadata": {
        "trusted": true
      },
      "outputs": [
        {
          "execution_count": 20,
          "output_type": "execute_result",
          "data": {
            "text/plain": "array([32, 13, 18])"
          },
          "metadata": {}
        }
      ],
      "execution_count": 20
    },
    {
      "id": "0a9b388f-8f2a-45f3-8b41-9e459fa15aa6",
      "cell_type": "markdown",
      "source": "# Q7",
      "metadata": {}
    },
    {
      "id": "62caf83e-5309-4d6c-8415-d97e33acabc8",
      "cell_type": "code",
      "source": "arr = np.random.randint(-50, 50, 9).reshape(3, 3)\narr",
      "metadata": {
        "trusted": true
      },
      "outputs": [
        {
          "execution_count": 22,
          "output_type": "execute_result",
          "data": {
            "text/plain": "array([[-34,   3,   3],\n       [ 14, -27, -48],\n       [ 36,  41, -20]])"
          },
          "metadata": {}
        }
      ],
      "execution_count": 22
    },
    {
      "id": "b72e49d0-1ff1-4b23-afd0-8b8ac277b002",
      "cell_type": "code",
      "source": "abs(arr)",
      "metadata": {
        "trusted": true
      },
      "outputs": [
        {
          "execution_count": 23,
          "output_type": "execute_result",
          "data": {
            "text/plain": "array([[34,  3,  3],\n       [14, 27, 48],\n       [36, 41, 20]])"
          },
          "metadata": {}
        }
      ],
      "execution_count": 23
    },
    {
      "id": "79a7c26e-c9a7-4fae-a4e4-52c80c9c29ca",
      "cell_type": "code",
      "source": "for i in range(0, 3):\n    for j in range(0, 3):\n        if (arr[i][j] < 0):\n            print(arr[i][j])\n",
      "metadata": {
        "trusted": true
      },
      "outputs": [
        {
          "name": "stdout",
          "text": "-34\n-27\n-48\n-20\n",
          "output_type": "stream"
        }
      ],
      "execution_count": 24
    },
    {
      "id": "78c6fca4-a713-4531-8362-a7a08ad9d75d",
      "cell_type": "code",
      "source": "arr = np.append(arr, [[7, 9, 21]], 0)",
      "metadata": {
        "trusted": true
      },
      "outputs": [],
      "execution_count": 28
    },
    {
      "id": "a891a103-5a91-4905-b8fc-1dcd0c9aab63",
      "cell_type": "code",
      "source": "np.delete(arr, 3, 0)",
      "metadata": {
        "trusted": true
      },
      "outputs": [
        {
          "execution_count": 29,
          "output_type": "execute_result",
          "data": {
            "text/plain": "array([[-34,   3,   3],\n       [ 14, -27, -48],\n       [ 36,  41, -20]])"
          },
          "metadata": {}
        }
      ],
      "execution_count": 29
    },
    {
      "id": "15caa649-a2cf-4882-b5a7-0e460fd143d3",
      "cell_type": "code",
      "source": "np.delete(arr, 2, 1)",
      "metadata": {
        "trusted": true
      },
      "outputs": [
        {
          "execution_count": 30,
          "output_type": "execute_result",
          "data": {
            "text/plain": "array([[-34,   3],\n       [ 14, -27],\n       [ 36,  41],\n       [  7,   9]])"
          },
          "metadata": {}
        }
      ],
      "execution_count": 30
    },
    {
      "id": "3b19fd3b-fbb8-431d-bd18-7f96973fb231",
      "cell_type": "code",
      "source": "arr.min()",
      "metadata": {
        "trusted": true
      },
      "outputs": [
        {
          "execution_count": 33,
          "output_type": "execute_result",
          "data": {
            "text/plain": "-48"
          },
          "metadata": {}
        }
      ],
      "execution_count": 33
    },
    {
      "id": "98476633-8448-4ce6-bb1f-0c83928cb0b2",
      "cell_type": "code",
      "source": "arr.max()",
      "metadata": {
        "trusted": true
      },
      "outputs": [
        {
          "execution_count": 34,
          "output_type": "execute_result",
          "data": {
            "text/plain": "41"
          },
          "metadata": {}
        }
      ],
      "execution_count": 34
    },
    {
      "id": "dbcb0b3d-75b1-4b55-aa76-11d14bde3680",
      "cell_type": "code",
      "source": "arr[:][1].max()",
      "metadata": {
        "trusted": true
      },
      "outputs": [
        {
          "execution_count": 37,
          "output_type": "execute_result",
          "data": {
            "text/plain": "14"
          },
          "metadata": {}
        }
      ],
      "execution_count": 37
    },
    {
      "id": "05fcfdaf-a543-4587-8287-73e9f9cd3763",
      "cell_type": "code",
      "source": "arr.sum()",
      "metadata": {
        "trusted": true
      },
      "outputs": [
        {
          "execution_count": 38,
          "output_type": "execute_result",
          "data": {
            "text/plain": "5"
          },
          "metadata": {}
        }
      ],
      "execution_count": 38
    },
    {
      "id": "a1865a3a-6588-45ac-a7f8-aeaa32076c4c",
      "cell_type": "markdown",
      "source": "# Q8",
      "metadata": {}
    },
    {
      "id": "02de1fec-4057-4f91-8e88-e3bcb987ad87",
      "cell_type": "code",
      "source": "import matplotlib.pyplot as plt",
      "metadata": {
        "trusted": true
      },
      "outputs": [],
      "execution_count": 42
    },
    {
      "id": "d210229b-3e54-45ec-9a9d-6dd8e1e0ea34",
      "cell_type": "code",
      "source": "a = np.sin(np.arange(1, 10))\nb = np.cos(np.arange(1, 10))\nprint(a)\nprint(b)",
      "metadata": {
        "trusted": true
      },
      "outputs": [
        {
          "name": "stdout",
          "text": "[ 0.84147098  0.90929743  0.14112001 -0.7568025  -0.95892427 -0.2794155\n  0.6569866   0.98935825  0.41211849]\n[ 0.54030231 -0.41614684 -0.9899925  -0.65364362  0.28366219  0.96017029\n  0.75390225 -0.14550003 -0.91113026]\n",
          "output_type": "stream"
        }
      ],
      "execution_count": 43
    },
    {
      "id": "2e30398d-f3c9-4563-9144-d52dc4022f90",
      "cell_type": "code",
      "source": "c = np.arange(1, 10)\nplt.plot(c, a)\nplt.plot(c, b)\nplt.xlabel(\"data\")\nplt.ylabel(\"values\")\nplt.legend([\"sine\", \"cosine\"])",
      "metadata": {
        "trusted": true
      },
      "outputs": [
        {
          "execution_count": 44,
          "output_type": "execute_result",
          "data": {
            "text/plain": "<matplotlib.legend.Legend at 0x5303450>"
          },
          "metadata": {}
        },
        {
          "output_type": "display_data",
          "data": {
            "text/plain": "<Figure size 640x480 with 1 Axes>",
            "image/png": "[encoded data removed]"
          },
          "metadata": {}
        }
      ],
      "execution_count": 44
    },
    {
      "id": "ac020000-7825-4b7a-9b73-f162ccdf080f",
      "cell_type": "code",
      "source": "plt.bar(c, a)\nplt.bar(c, b)",
      "metadata": {
        "trusted": true
      },
      "outputs": [
        {
          "execution_count": 45,
          "output_type": "execute_result",
          "data": {
            "text/plain": "<BarContainer object of 9 artists>"
          },
          "metadata": {}
        },
        {
          "output_type": "display_data",
          "data": {
            "text/plain": "<Figure size 640x480 with 1 Axes>",
            "image/png": "[encoded data removed]"
          },
          "metadata": {}
        }
      ],
      "execution_count": 45
    },
    {
      "id": "649b376e-9848-44e8-9e19-f949a0dcda34",
      "cell_type": "code",
      "source": "plt.hist(a)",
      "metadata": {
        "trusted": true
      },
      "outputs": [
        {
          "execution_count": 47,
          "output_type": "execute_result",
          "data": {
            "text/plain": "(array([1., 1., 0., 1., 0., 1., 0., 1., 1., 3.]),\n array([-0.95892427, -0.76409602, -0.56926777, -0.37443952, -0.17961127,\n         0.01521699,  0.21004524,  0.40487349,  0.59970174,  0.79452999,\n         0.98935825]),\n <BarContainer object of 10 artists>)"
          },
          "metadata": {}
        },
        {
          "output_type": "display_data",
          "data": {
            "text/plain": "<Figure size 640x480 with 1 Axes>",
            "image/png": "[encoded data removed]"
          },
          "metadata": {}
        }
      ],
      "execution_count": 47
    },
    {
      "id": "eb85f848-ff88-4b71-9e20-e44514af09c0",
      "cell_type": "markdown",
      "source": "# Q9",
      "metadata": {}
    },
    {
      "id": "1d1b8a3e-ec2e-4a59-9f51-3111979e39b5",
      "cell_type": "code",
      "source": "a= np.arange(1,10)\nb=np.sin(a)\nc=np.cos(a)\nd=np.negative(a)\ne=np.exp(a)",
      "metadata": {
        "trusted": true
      },
      "outputs": [],
      "execution_count": 48
    },
    {
      "id": "9db66077-c401-4935-9b5e-d31735ddd283",
      "cell_type": "code",
      "source": "plt.subplot(2,2,1)\nplt.plot(a,b,color=\"r\")\nplt.legend([\"sine value\"])\nplt.subplot(2,2,2)\nplt.plot(a,c,color=\"hotpink\")\nplt.legend([\"cos value\"])\nplt.subplot(2,2,3)\nplt.plot(a,d,color=\"c\")\nplt.legend([\"neg value\"])\nplt.subplot(2,2,4)\nplt.plot(a,e,color=\"y\")\nplt.legend([\"exp value\"])",
      "metadata": {
        "trusted": true
      },
      "outputs": [
        {
          "execution_count": 50,
          "output_type": "execute_result",
          "data": {
            "text/plain": "<matplotlib.legend.Legend at 0x640f8f8>"
          },
          "metadata": {}
        },
        {
          "output_type": "display_data",
          "data": {
            "text/plain": "<Figure size 640x480 with 4 Axes>",
            "image/png": "[encoded data removed]"
          },
          "metadata": {}
        }
      ],
      "execution_count": 50
    },
    {
      "id": "de769fb3-2569-42f1-a200-c29c34b64f74",
      "cell_type": "markdown",
      "source": "# Q10",
      "metadata": {}
    },
    {
      "id": "0ddc2802-1e6f-4434-857b-08fa464533fd",
      "cell_type": "code",
      "source": "finger = True\nhole = False\nif (finger):\n    hole = ~hole\nhole",
      "metadata": {
        "trusted": true
      },
      "outputs": [
        {
          "execution_count": 52,
          "output_type": "execute_result",
          "data": {
            "text/plain": "-1"
          },
          "metadata": {}
        }
      ],
      "execution_count": 52
    },
    {
      "id": "b58bd12d-7e7f-4223-b3b4-db9716f6c755",
      "cell_type": "code",
      "source": "for i in range(0, 3):\n    print(\"Terracotta Pie HEY\")\nprint(\"Terracotta Pie\")\nfor i in range(0, 4):\n    print(\"BANANA\")\nprint(\"Terracotta Banana Terracotta Terracotta Pie\")",
      "metadata": {
        "trusted": true
      },
      "outputs": [
        {
          "name": "stdout",
          "text": "Terracotta Pie HEY\nTerracotta Pie HEY\nTerracotta Pie HEY\nTerracotta Pie\nBANANA\nBANANA\nBANANA\nBANANA\nTerracotta Banana Terracotta Terracotta Pie\n",
          "output_type": "stream"
        }
      ],
      "execution_count": 53
    },
    {
      "id": "729bc2c4-7e66-4c33-a486-604a01975875",
      "cell_type": "code",
      "source": "i = 10\nwhile (i > 0):\n    print(\"Yippee\")\n    i-=1\n",
      "metadata": {
        "trusted": true
      },
      "outputs": [
        {
          "name": "stdout",
          "text": "Yippee\nYippee\nYippee\nYippee\nYippee\nYippee\nYippee\nYippee\nYippee\nYippee\n",
          "output_type": "stream"
        }
      ],
      "execution_count": 55
    },
    {
      "id": "e6bff54b-badd-49e3-9c90-8cdcd7ccd744",
      "cell_type": "code",
      "source": "",
      "metadata": {
        "trusted": true
      },
      "outputs": [],
      "execution_count": null
    }
  ]
}